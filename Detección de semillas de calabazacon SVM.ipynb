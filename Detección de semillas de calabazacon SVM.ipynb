{
 "cells": [
  {
   "cell_type": "markdown",
   "metadata": {},
   "source": [
    "<h4> Classificación de semillas de calabaazs con SVM </h4>"
   ]
  },
  {
   "cell_type": "code",
   "execution_count": 91,
   "metadata": {},
   "outputs": [],
   "source": [
    "#Importamos librerías\n",
    "import pandas as pd\n",
    "import matplotlib.pyplot as plt"
   ]
  },
  {
   "cell_type": "code",
   "execution_count": 92,
   "metadata": {},
   "outputs": [],
   "source": [
    "#Cogemos el dataset\n",
    "df = pd.read_csv(\"Semillas_calabazas_dataset.csv\")"
   ]
  },
  {
   "cell_type": "code",
   "execution_count": 93,
   "metadata": {
    "scrolled": true
   },
   "outputs": [
    {
     "data": {
      "text/html": [
       "<div>\n",
       "<style scoped>\n",
       "    .dataframe tbody tr th:only-of-type {\n",
       "        vertical-align: middle;\n",
       "    }\n",
       "\n",
       "    .dataframe tbody tr th {\n",
       "        vertical-align: top;\n",
       "    }\n",
       "\n",
       "    .dataframe thead th {\n",
       "        text-align: right;\n",
       "    }\n",
       "</style>\n",
       "<table border=\"1\" class=\"dataframe\">\n",
       "  <thead>\n",
       "    <tr style=\"text-align: right;\">\n",
       "      <th></th>\n",
       "      <th>Area</th>\n",
       "      <th>Perimeter</th>\n",
       "      <th>Major_Axis_Length</th>\n",
       "      <th>Minor_Axis_Length</th>\n",
       "      <th>Convex_Area</th>\n",
       "      <th>Equiv_Diameter</th>\n",
       "      <th>Eccentricity</th>\n",
       "      <th>Solidity</th>\n",
       "      <th>Extent</th>\n",
       "      <th>Roundness</th>\n",
       "      <th>Aspect_Ration</th>\n",
       "      <th>Compactness</th>\n",
       "      <th>Class</th>\n",
       "    </tr>\n",
       "  </thead>\n",
       "  <tbody>\n",
       "    <tr>\n",
       "      <th>0</th>\n",
       "      <td>56276</td>\n",
       "      <td>888.242</td>\n",
       "      <td>326.1485</td>\n",
       "      <td>220.2388</td>\n",
       "      <td>56831</td>\n",
       "      <td>267.6805</td>\n",
       "      <td>0.7376</td>\n",
       "      <td>0.9902</td>\n",
       "      <td>0.7453</td>\n",
       "      <td>0.8963</td>\n",
       "      <td>1.4809</td>\n",
       "      <td>0.8207</td>\n",
       "      <td>Çerçevelik</td>\n",
       "    </tr>\n",
       "    <tr>\n",
       "      <th>1</th>\n",
       "      <td>76631</td>\n",
       "      <td>1068.146</td>\n",
       "      <td>417.1932</td>\n",
       "      <td>234.2289</td>\n",
       "      <td>77280</td>\n",
       "      <td>312.3614</td>\n",
       "      <td>0.8275</td>\n",
       "      <td>0.9916</td>\n",
       "      <td>0.7151</td>\n",
       "      <td>0.8440</td>\n",
       "      <td>1.7811</td>\n",
       "      <td>0.7487</td>\n",
       "      <td>Çerçevelik</td>\n",
       "    </tr>\n",
       "    <tr>\n",
       "      <th>2</th>\n",
       "      <td>71623</td>\n",
       "      <td>1082.987</td>\n",
       "      <td>435.8328</td>\n",
       "      <td>211.0457</td>\n",
       "      <td>72663</td>\n",
       "      <td>301.9822</td>\n",
       "      <td>0.8749</td>\n",
       "      <td>0.9857</td>\n",
       "      <td>0.7400</td>\n",
       "      <td>0.7674</td>\n",
       "      <td>2.0651</td>\n",
       "      <td>0.6929</td>\n",
       "      <td>Çerçevelik</td>\n",
       "    </tr>\n",
       "    <tr>\n",
       "      <th>3</th>\n",
       "      <td>66458</td>\n",
       "      <td>992.051</td>\n",
       "      <td>381.5638</td>\n",
       "      <td>222.5322</td>\n",
       "      <td>67118</td>\n",
       "      <td>290.8899</td>\n",
       "      <td>0.8123</td>\n",
       "      <td>0.9902</td>\n",
       "      <td>0.7396</td>\n",
       "      <td>0.8486</td>\n",
       "      <td>1.7146</td>\n",
       "      <td>0.7624</td>\n",
       "      <td>Çerçevelik</td>\n",
       "    </tr>\n",
       "    <tr>\n",
       "      <th>4</th>\n",
       "      <td>66107</td>\n",
       "      <td>998.146</td>\n",
       "      <td>383.8883</td>\n",
       "      <td>220.4545</td>\n",
       "      <td>67117</td>\n",
       "      <td>290.1207</td>\n",
       "      <td>0.8187</td>\n",
       "      <td>0.9850</td>\n",
       "      <td>0.6752</td>\n",
       "      <td>0.8338</td>\n",
       "      <td>1.7413</td>\n",
       "      <td>0.7557</td>\n",
       "      <td>Çerçevelik</td>\n",
       "    </tr>\n",
       "    <tr>\n",
       "      <th>...</th>\n",
       "      <td>...</td>\n",
       "      <td>...</td>\n",
       "      <td>...</td>\n",
       "      <td>...</td>\n",
       "      <td>...</td>\n",
       "      <td>...</td>\n",
       "      <td>...</td>\n",
       "      <td>...</td>\n",
       "      <td>...</td>\n",
       "      <td>...</td>\n",
       "      <td>...</td>\n",
       "      <td>...</td>\n",
       "      <td>...</td>\n",
       "    </tr>\n",
       "    <tr>\n",
       "      <th>2495</th>\n",
       "      <td>79637</td>\n",
       "      <td>1224.710</td>\n",
       "      <td>533.1513</td>\n",
       "      <td>190.4367</td>\n",
       "      <td>80381</td>\n",
       "      <td>318.4289</td>\n",
       "      <td>0.9340</td>\n",
       "      <td>0.9907</td>\n",
       "      <td>0.4888</td>\n",
       "      <td>0.6672</td>\n",
       "      <td>2.7996</td>\n",
       "      <td>0.5973</td>\n",
       "      <td>Ürgüp Sivrisi</td>\n",
       "    </tr>\n",
       "    <tr>\n",
       "      <th>2496</th>\n",
       "      <td>69647</td>\n",
       "      <td>1084.318</td>\n",
       "      <td>462.9416</td>\n",
       "      <td>191.8210</td>\n",
       "      <td>70216</td>\n",
       "      <td>297.7874</td>\n",
       "      <td>0.9101</td>\n",
       "      <td>0.9919</td>\n",
       "      <td>0.6002</td>\n",
       "      <td>0.7444</td>\n",
       "      <td>2.4134</td>\n",
       "      <td>0.6433</td>\n",
       "      <td>Ürgüp Sivrisi</td>\n",
       "    </tr>\n",
       "    <tr>\n",
       "      <th>2497</th>\n",
       "      <td>87994</td>\n",
       "      <td>1210.314</td>\n",
       "      <td>507.2200</td>\n",
       "      <td>222.1872</td>\n",
       "      <td>88702</td>\n",
       "      <td>334.7199</td>\n",
       "      <td>0.8990</td>\n",
       "      <td>0.9920</td>\n",
       "      <td>0.7643</td>\n",
       "      <td>0.7549</td>\n",
       "      <td>2.2828</td>\n",
       "      <td>0.6599</td>\n",
       "      <td>Ürgüp Sivrisi</td>\n",
       "    </tr>\n",
       "    <tr>\n",
       "      <th>2498</th>\n",
       "      <td>80011</td>\n",
       "      <td>1182.947</td>\n",
       "      <td>501.9065</td>\n",
       "      <td>204.7531</td>\n",
       "      <td>80902</td>\n",
       "      <td>319.1758</td>\n",
       "      <td>0.9130</td>\n",
       "      <td>0.9890</td>\n",
       "      <td>0.7374</td>\n",
       "      <td>0.7185</td>\n",
       "      <td>2.4513</td>\n",
       "      <td>0.6359</td>\n",
       "      <td>Ürgüp Sivrisi</td>\n",
       "    </tr>\n",
       "    <tr>\n",
       "      <th>2499</th>\n",
       "      <td>84934</td>\n",
       "      <td>1159.933</td>\n",
       "      <td>462.8951</td>\n",
       "      <td>234.5597</td>\n",
       "      <td>85781</td>\n",
       "      <td>328.8485</td>\n",
       "      <td>0.8621</td>\n",
       "      <td>0.9901</td>\n",
       "      <td>0.7360</td>\n",
       "      <td>0.7933</td>\n",
       "      <td>1.9735</td>\n",
       "      <td>0.7104</td>\n",
       "      <td>Ürgüp Sivrisi</td>\n",
       "    </tr>\n",
       "  </tbody>\n",
       "</table>\n",
       "<p>2500 rows × 13 columns</p>\n",
       "</div>"
      ],
      "text/plain": [
       "       Area  Perimeter  Major_Axis_Length  Minor_Axis_Length  Convex_Area  \\\n",
       "0     56276    888.242           326.1485           220.2388        56831   \n",
       "1     76631   1068.146           417.1932           234.2289        77280   \n",
       "2     71623   1082.987           435.8328           211.0457        72663   \n",
       "3     66458    992.051           381.5638           222.5322        67118   \n",
       "4     66107    998.146           383.8883           220.4545        67117   \n",
       "...     ...        ...                ...                ...          ...   \n",
       "2495  79637   1224.710           533.1513           190.4367        80381   \n",
       "2496  69647   1084.318           462.9416           191.8210        70216   \n",
       "2497  87994   1210.314           507.2200           222.1872        88702   \n",
       "2498  80011   1182.947           501.9065           204.7531        80902   \n",
       "2499  84934   1159.933           462.8951           234.5597        85781   \n",
       "\n",
       "      Equiv_Diameter  Eccentricity  Solidity  Extent  Roundness  \\\n",
       "0           267.6805        0.7376    0.9902  0.7453     0.8963   \n",
       "1           312.3614        0.8275    0.9916  0.7151     0.8440   \n",
       "2           301.9822        0.8749    0.9857  0.7400     0.7674   \n",
       "3           290.8899        0.8123    0.9902  0.7396     0.8486   \n",
       "4           290.1207        0.8187    0.9850  0.6752     0.8338   \n",
       "...              ...           ...       ...     ...        ...   \n",
       "2495        318.4289        0.9340    0.9907  0.4888     0.6672   \n",
       "2496        297.7874        0.9101    0.9919  0.6002     0.7444   \n",
       "2497        334.7199        0.8990    0.9920  0.7643     0.7549   \n",
       "2498        319.1758        0.9130    0.9890  0.7374     0.7185   \n",
       "2499        328.8485        0.8621    0.9901  0.7360     0.7933   \n",
       "\n",
       "      Aspect_Ration  Compactness          Class  \n",
       "0            1.4809       0.8207     Çerçevelik  \n",
       "1            1.7811       0.7487     Çerçevelik  \n",
       "2            2.0651       0.6929     Çerçevelik  \n",
       "3            1.7146       0.7624     Çerçevelik  \n",
       "4            1.7413       0.7557     Çerçevelik  \n",
       "...             ...          ...            ...  \n",
       "2495         2.7996       0.5973  Ürgüp Sivrisi  \n",
       "2496         2.4134       0.6433  Ürgüp Sivrisi  \n",
       "2497         2.2828       0.6599  Ürgüp Sivrisi  \n",
       "2498         2.4513       0.6359  Ürgüp Sivrisi  \n",
       "2499         1.9735       0.7104  Ürgüp Sivrisi  \n",
       "\n",
       "[2500 rows x 13 columns]"
      ]
     },
     "execution_count": 93,
     "metadata": {},
     "output_type": "execute_result"
    }
   ],
   "source": [
    "df"
   ]
  },
  {
   "cell_type": "code",
   "execution_count": 94,
   "metadata": {},
   "outputs": [
    {
     "data": {
      "text/html": [
       "<div>\n",
       "<style scoped>\n",
       "    .dataframe tbody tr th:only-of-type {\n",
       "        vertical-align: middle;\n",
       "    }\n",
       "\n",
       "    .dataframe tbody tr th {\n",
       "        vertical-align: top;\n",
       "    }\n",
       "\n",
       "    .dataframe thead th {\n",
       "        text-align: right;\n",
       "    }\n",
       "</style>\n",
       "<table border=\"1\" class=\"dataframe\">\n",
       "  <thead>\n",
       "    <tr style=\"text-align: right;\">\n",
       "      <th></th>\n",
       "      <th>Area</th>\n",
       "      <th>Perimeter</th>\n",
       "      <th>Major_Axis_Length</th>\n",
       "      <th>Minor_Axis_Length</th>\n",
       "      <th>Convex_Area</th>\n",
       "      <th>Equiv_Diameter</th>\n",
       "      <th>Eccentricity</th>\n",
       "      <th>Solidity</th>\n",
       "      <th>Extent</th>\n",
       "      <th>Roundness</th>\n",
       "      <th>Aspect_Ration</th>\n",
       "      <th>Compactness</th>\n",
       "      <th>Class</th>\n",
       "    </tr>\n",
       "  </thead>\n",
       "  <tbody>\n",
       "    <tr>\n",
       "      <th>0</th>\n",
       "      <td>56276</td>\n",
       "      <td>888.242</td>\n",
       "      <td>326.1485</td>\n",
       "      <td>220.2388</td>\n",
       "      <td>56831</td>\n",
       "      <td>267.6805</td>\n",
       "      <td>0.7376</td>\n",
       "      <td>0.9902</td>\n",
       "      <td>0.7453</td>\n",
       "      <td>0.8963</td>\n",
       "      <td>1.4809</td>\n",
       "      <td>0.8207</td>\n",
       "      <td>Çerçevelik</td>\n",
       "    </tr>\n",
       "    <tr>\n",
       "      <th>1</th>\n",
       "      <td>76631</td>\n",
       "      <td>1068.146</td>\n",
       "      <td>417.1932</td>\n",
       "      <td>234.2289</td>\n",
       "      <td>77280</td>\n",
       "      <td>312.3614</td>\n",
       "      <td>0.8275</td>\n",
       "      <td>0.9916</td>\n",
       "      <td>0.7151</td>\n",
       "      <td>0.8440</td>\n",
       "      <td>1.7811</td>\n",
       "      <td>0.7487</td>\n",
       "      <td>Çerçevelik</td>\n",
       "    </tr>\n",
       "    <tr>\n",
       "      <th>2</th>\n",
       "      <td>71623</td>\n",
       "      <td>1082.987</td>\n",
       "      <td>435.8328</td>\n",
       "      <td>211.0457</td>\n",
       "      <td>72663</td>\n",
       "      <td>301.9822</td>\n",
       "      <td>0.8749</td>\n",
       "      <td>0.9857</td>\n",
       "      <td>0.7400</td>\n",
       "      <td>0.7674</td>\n",
       "      <td>2.0651</td>\n",
       "      <td>0.6929</td>\n",
       "      <td>Çerçevelik</td>\n",
       "    </tr>\n",
       "    <tr>\n",
       "      <th>3</th>\n",
       "      <td>66458</td>\n",
       "      <td>992.051</td>\n",
       "      <td>381.5638</td>\n",
       "      <td>222.5322</td>\n",
       "      <td>67118</td>\n",
       "      <td>290.8899</td>\n",
       "      <td>0.8123</td>\n",
       "      <td>0.9902</td>\n",
       "      <td>0.7396</td>\n",
       "      <td>0.8486</td>\n",
       "      <td>1.7146</td>\n",
       "      <td>0.7624</td>\n",
       "      <td>Çerçevelik</td>\n",
       "    </tr>\n",
       "    <tr>\n",
       "      <th>4</th>\n",
       "      <td>66107</td>\n",
       "      <td>998.146</td>\n",
       "      <td>383.8883</td>\n",
       "      <td>220.4545</td>\n",
       "      <td>67117</td>\n",
       "      <td>290.1207</td>\n",
       "      <td>0.8187</td>\n",
       "      <td>0.9850</td>\n",
       "      <td>0.6752</td>\n",
       "      <td>0.8338</td>\n",
       "      <td>1.7413</td>\n",
       "      <td>0.7557</td>\n",
       "      <td>Çerçevelik</td>\n",
       "    </tr>\n",
       "    <tr>\n",
       "      <th>5</th>\n",
       "      <td>73191</td>\n",
       "      <td>1041.460</td>\n",
       "      <td>405.8132</td>\n",
       "      <td>231.4261</td>\n",
       "      <td>73969</td>\n",
       "      <td>305.2698</td>\n",
       "      <td>0.8215</td>\n",
       "      <td>0.9895</td>\n",
       "      <td>0.7165</td>\n",
       "      <td>0.8480</td>\n",
       "      <td>1.7535</td>\n",
       "      <td>0.7522</td>\n",
       "      <td>Çerçevelik</td>\n",
       "    </tr>\n",
       "  </tbody>\n",
       "</table>\n",
       "</div>"
      ],
      "text/plain": [
       "    Area  Perimeter  Major_Axis_Length  Minor_Axis_Length  Convex_Area  \\\n",
       "0  56276    888.242           326.1485           220.2388        56831   \n",
       "1  76631   1068.146           417.1932           234.2289        77280   \n",
       "2  71623   1082.987           435.8328           211.0457        72663   \n",
       "3  66458    992.051           381.5638           222.5322        67118   \n",
       "4  66107    998.146           383.8883           220.4545        67117   \n",
       "5  73191   1041.460           405.8132           231.4261        73969   \n",
       "\n",
       "   Equiv_Diameter  Eccentricity  Solidity  Extent  Roundness  Aspect_Ration  \\\n",
       "0        267.6805        0.7376    0.9902  0.7453     0.8963         1.4809   \n",
       "1        312.3614        0.8275    0.9916  0.7151     0.8440         1.7811   \n",
       "2        301.9822        0.8749    0.9857  0.7400     0.7674         2.0651   \n",
       "3        290.8899        0.8123    0.9902  0.7396     0.8486         1.7146   \n",
       "4        290.1207        0.8187    0.9850  0.6752     0.8338         1.7413   \n",
       "5        305.2698        0.8215    0.9895  0.7165     0.8480         1.7535   \n",
       "\n",
       "   Compactness       Class  \n",
       "0       0.8207  Çerçevelik  \n",
       "1       0.7487  Çerçevelik  \n",
       "2       0.6929  Çerçevelik  \n",
       "3       0.7624  Çerçevelik  \n",
       "4       0.7557  Çerçevelik  \n",
       "5       0.7522  Çerçevelik  "
      ]
     },
     "execution_count": 94,
     "metadata": {},
     "output_type": "execute_result"
    }
   ],
   "source": [
    "#Separamos el dataset de las 2 clases de semillas\n",
    "df1=df[df[\"Class\"]==\"Ürgüp Sivrisi\"]\n",
    "df0=df[df[\"Class\"]==\"Çerçevelik\"]"
   ]
  },
  {
   "cell_type": "code",
   "execution_count": 95,
   "metadata": {},
   "outputs": [
    {
     "data": {
      "text/plain": [
       "<matplotlib.collections.PathCollection at 0x1f75be18a08>"
      ]
     },
     "execution_count": 95,
     "metadata": {},
     "output_type": "execute_result"
    },
    {
     "data": {
      "image/png": "[encoded data removed]",
      "text/plain": [
       "<Figure size 432x288 with 1 Axes>"
      ]
     },
     "metadata": {
      "needs_background": "light"
     },
     "output_type": "display_data"
    }
   ],
   "source": [
    "#Hacemos un gráfico para ver las diferencia de las semillas \n",
    "plt.xlabel('Area')\n",
    "plt.ylabel('Perimeter')\n",
    "plt.scatter(df0['Perimeter'], df0['Area'],color=\"green\",marker='.')\n",
    "plt.scatter(df1['Perimeter'], df1['Area'],color=\"blue\",marker='.')"
   ]
  },
  {
   "cell_type": "code",
   "execution_count": 96,
   "metadata": {},
   "outputs": [],
   "source": [
    "from sklearn.model_selection import train_test_split"
   ]
  },
  {
   "cell_type": "code",
   "execution_count": 97,
   "metadata": {},
   "outputs": [],
   "source": [
    "X = df.drop(['Class'], axis='columns')\n",
    "y = df.Class"
   ]
  },
  {
   "cell_type": "code",
   "execution_count": 98,
   "metadata": {},
   "outputs": [],
   "source": [
    "#Separamos los datos para entrenar y testear\n",
    "X_train, X_test, y_train, y_test = train_test_split(X, y, test_size=0.2)"
   ]
  },
  {
   "cell_type": "code",
   "execution_count": 117,
   "metadata": {},
   "outputs": [],
   "source": [
    "#Importamos el svc para entrenar los datos\n",
    "from sklearn.svm import SVC\n",
    "#Ponemos un parametro de regularización de 100000\n",
    "model = SVC(C=100000)"
   ]
  },
  {
   "cell_type": "code",
   "execution_count": 118,
   "metadata": {},
   "outputs": [
    {
     "data": {
      "text/plain": [
       "0.9"
      ]
     },
     "execution_count": 118,
     "metadata": {},
     "output_type": "execute_result"
    }
   ],
   "source": [
    "#Entrenamos el modelo \n",
    "model.fit(X_train, y_train)\n",
    "#Comprobamos el resultado\n",
    "model.score(X_test, y_test)"
   ]
  },
  {
   "cell_type": "code",
   "execution_count": 125,
   "metadata": {},
   "outputs": [
    {
     "data": {
      "text/plain": [
       "0.88"
      ]
     },
     "execution_count": 125,
     "metadata": {},
     "output_type": "execute_result"
    }
   ],
   "source": [
    "#Ahora entreno otra vez pero esta vez quitando la regularización y poniendo kernel lineal\n",
    "model_linear_kernal = SVC(kernel='linear')\n",
    "model_linear_kernal.fit(X_train, y_train)\n",
    "model_linear_kernal.score(X_test, y_test)"
   ]
  },
  {
   "cell_type": "code",
   "execution_count": 108,
   "metadata": {},
   "outputs": [
    {
     "data": {
      "text/plain": [
       "array(['Ürgüp Sivrisi'], dtype=object)"
      ]
     },
     "execution_count": 108,
     "metadata": {},
     "output_type": "execute_result"
    }
   ],
   "source": [
    "#Ahora simplemente predecimos en el modelo con la regularización modificada\n",
    "model.predict([[72626,888.242,326.1485,220.2388,56831,267.6805,0.7376,0.9902,0.7453,0.8963,1.4809,0.8207]])"
   ]
  },
  {
   "cell_type": "code",
   "execution_count": 119,
   "metadata": {},
   "outputs": [
    {
     "data": {
      "text/plain": [
       "array(['Ürgüp Sivrisi'], dtype=object)"
      ]
     },
     "execution_count": 119,
     "metadata": {},
     "output_type": "execute_result"
    }
   ],
   "source": [
    "#Ahora simplemente predecimos en el modelo del kernel lineal\n",
    "model_linear_kernal.predict([[72626,888.242,326.1485,220.2388,56831,267.6805,0.7376,0.9902,0.7453,0.8963,1.4809,0.8207]])"
   ]
  },
  {
   "cell_type": "code",
   "execution_count": null,
   "metadata": {},
   "outputs": [],
   "source": []
  }
 ],
 "metadata": {
  "kernelspec": {
   "display_name": "Python 3",
   "language": "python",
   "name": "python3"
  },
  "language_info": {
   "codemirror_mode": {
    "name": "ipython",
    "version": 3
   },
   "file_extension": ".py",
   "mimetype": "text/x-python",
   "name": "python",
   "nbconvert_exporter": "python",
   "pygments_lexer": "ipython3",
   "version": "3.7.6"
  }
 },
 "nbformat": 4,
 "nbformat_minor": 4
}
